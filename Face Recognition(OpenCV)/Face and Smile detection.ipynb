{
 "cells": [
  {
   "cell_type": "code",
   "execution_count": 1,
   "metadata": {},
   "outputs": [],
   "source": [
    "#importing libraries\n",
    "import cv2"
   ]
  },
  {
   "cell_type": "code",
   "execution_count": 2,
   "metadata": {},
   "outputs": [],
   "source": [
    "#loading the cascades\n",
    "face_cascades=cv2.CascadeClassifier('haarcascade_frontalface_default.xml')\n",
    "smile_cascade=cv2.CascadeClassifier('haarcascade_smile.xml')\n",
    "eye_cascasde=cv2.CascadeClassifier('haarcascade_eye.xml')"
   ]
  },
  {
   "cell_type": "code",
   "execution_count": 4,
   "metadata": {},
   "outputs": [],
   "source": [
    "#Detection\n",
    "def detect(grey,frame):\n",
    "    face=face_cascades.detectMultiScale(grey,1.3,5)\n",
    "    for (x,y,w,h) in face:\n",
    "        cv2.rectangle(frame,(x,y),(x+w,y+h),(255,0,0),2)\n",
    "        roi_grey=grey[y:y+h,x:x+w]\n",
    "        roi_frame=frame[y:y+h,x:x+w]\n",
    "        eye=eye_cascasde.detectMultiScale(roi_grey,1.2,22)\n",
    "        for (ex,ey,ew,eh) in eye:\n",
    "            cv2.rectangle(roi_frame,(ex,ey),(ex+ew,ey+eh),(0,255,0),2)\n",
    "        smile=smile_cascade.detectMultiScale(roi_grey,1.7,22)\n",
    "        for (sx,sy,sw,sh) in smile:\n",
    "            cv2.rectangle(roi_frame,(sx,sy),(sx+sw,sy+sh),(0,0,255),2)\n",
    "    return frame"
   ]
  },
  {
   "cell_type": "code",
   "execution_count": 5,
   "metadata": {},
   "outputs": [],
   "source": [
    "video_capture=cv2.VideoCapture(0)\n",
    "while True:\n",
    "    _, frame=video_capture.read()\n",
    "    grey=cv2.cvtColor(frame, cv2.COLOR_BGR2GRAY)\n",
    "    canvas=detect(grey,frame)\n",
    "    cv2.imshow(\"Detected\",canvas)\n",
    "    if cv2.waitKey(1) & 0XFF ==ord('q'):\n",
    "        break\n",
    "video_capture.release()\n",
    "cv2.destroyAllWindows()"
   ]
  }
 ],
 "metadata": {
  "kernelspec": {
   "display_name": "Python [conda env:virtual_platform]",
   "language": "python",
   "name": "conda-env-virtual_platform-py"
  },
  "language_info": {
   "codemirror_mode": {
    "name": "ipython",
    "version": 3
   },
   "file_extension": ".py",
   "mimetype": "text/x-python",
   "name": "python",
   "nbconvert_exporter": "python",
   "pygments_lexer": "ipython3",
   "version": "3.5.4"
  }
 },
 "nbformat": 4,
 "nbformat_minor": 2
}
